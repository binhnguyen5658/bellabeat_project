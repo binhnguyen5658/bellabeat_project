{
 "cells": [
  {
   "cell_type": "markdown",
   "id": "017df5d6-669a-40f6-af91-3b553ce5f7d7",
   "metadata": {},
   "source": [
    "# BELLABEAT PROJECT"
   ]
  },
  {
   "cell_type": "markdown",
   "id": "7438e9ae-1bdd-4859-9bd3-687bfa44f933",
   "metadata": {},
   "source": [
    "## 1. Business task"
   ]
  },
  {
   "cell_type": "markdown",
   "id": "2fff9b64-8bd2-4d09-bc49-c44cc6da7e58",
   "metadata": {},
   "source": [
    "### 1.1 Context: \n",
    "The company better target their marketing efforts into their customer's needs based on their usage of their fitness smart devices. With this info then make high-level recommendations for how these trends can inform Bellabeat marketing strategy.\n",
    "\n",
    "### 1.2 Business task:\n",
    "Given these facts, the business task is defined as searching for user patterns of usage of their smart devices in order to gain insights that would later better orientate marketing decisions. So, in one phrase it would be:\n",
    "\n",
    "**How do our users use our smart devices?**"
   ]
  },
  {
   "cell_type": "markdown",
   "id": "33bd5ff0-4af4-45f8-aa73-43636b40b399",
   "metadata": {},
   "source": [
    "## 2. Prepare data"
   ]
  },
  {
   "cell_type": "markdown",
   "id": "2c770f16-7dd9-4bf7-ae98-74325e64718e",
   "metadata": {},
   "source": [
    "### 2.1 The credibility of the data"
   ]
  },
  {
   "cell_type": "markdown",
   "id": "f427caaf-76fe-4176-b0a8-60a02fe97fc6",
   "metadata": {},
   "source": [
    "The data is public data from FitBit Fitness Tracker Data. It's a dataset from 33 fitbit users that includes minute-level output for physical activity, heart rate, and sleep monitoring. It's a good database segmented in several tables with different aspects of the data of the device with lots of details about the user behaviour."
   ]
  },
  {
   "cell_type": "markdown",
   "id": "a3aa3235-cd64-4444-b7f1-c367b352ecb4",
   "metadata": {
    "tags": []
   },
   "source": [
    "### 2.2 Importing libraries and data files"
   ]
  },
  {
   "cell_type": "code",
   "execution_count": 1,
   "id": "2824fce7-993d-40d9-a59a-f06081d7abf3",
   "metadata": {},
   "outputs": [],
   "source": [
    "#import libraries\n",
    "import pandas as pd\n",
    "import numpy as np\n",
    "import datetime as dt\n",
    "import matplotlib.pyplot as plt\n",
    "import seaborn as sns"
   ]
  },
  {
   "cell_type": "code",
   "execution_count": 2,
   "id": "94e30e99-5490-48ef-83d0-132c745ecec5",
   "metadata": {},
   "outputs": [],
   "source": [
    "#load data files\n",
    "daily_activity = pd.read_csv('https://raw.githubusercontent.com/binhnguyen5658/bellabeat_project/main/data/dailyActivity_merged.csv')\n",
    "# daily_calories = pd.read_csv('https://raw.githubusercontent.com/binhnguyen5658/bellabeat_project/main/data/dailyCalories_merged.csv')\n",
    "# daily_intensity = pd.read_csv('https://raw.githubusercontent.com/binhnguyen5658/bellabeat_project/main/data/dailyIntensities_merged.csv')\n",
    "# daily_step = pd.read_csv('https://raw.githubusercontent.com/binhnguyen5658/bellabeat_project/main/data/dailySteps_merged.csv')\n",
    "hourly_calories = pd.read_csv('https://raw.githubusercontent.com/binhnguyen5658/bellabeat_project/main/data/hourlyCalories_merged.csv')\n",
    "hourly_intensity = pd.read_csv('https://raw.githubusercontent.com/binhnguyen5658/bellabeat_project/main/data/hourlyIntensities_merged.csv')\n",
    "sleep_day = pd.read_csv('https://raw.githubusercontent.com/binhnguyen5658/bellabeat_project/main/data/sleepDay_merged.csv')"
   ]
  },
  {
   "cell_type": "code",
   "execution_count": 3,
   "id": "6f7e0586-6c70-41be-a243-4faf3846a92d",
   "metadata": {},
   "outputs": [
    {
     "data": {
      "text/html": [
       "<div>\n",
       "<style scoped>\n",
       "    .dataframe tbody tr th:only-of-type {\n",
       "        vertical-align: middle;\n",
       "    }\n",
       "\n",
       "    .dataframe tbody tr th {\n",
       "        vertical-align: top;\n",
       "    }\n",
       "\n",
       "    .dataframe thead th {\n",
       "        text-align: right;\n",
       "    }\n",
       "</style>\n",
       "<table border=\"1\" class=\"dataframe\">\n",
       "  <thead>\n",
       "    <tr style=\"text-align: right;\">\n",
       "      <th></th>\n",
       "      <th>Id</th>\n",
       "      <th>ActivityDate</th>\n",
       "      <th>TotalSteps</th>\n",
       "      <th>TotalDistance</th>\n",
       "      <th>TrackerDistance</th>\n",
       "      <th>LoggedActivitiesDistance</th>\n",
       "      <th>VeryActiveDistance</th>\n",
       "      <th>ModeratelyActiveDistance</th>\n",
       "      <th>LightActiveDistance</th>\n",
       "      <th>SedentaryActiveDistance</th>\n",
       "      <th>VeryActiveMinutes</th>\n",
       "      <th>FairlyActiveMinutes</th>\n",
       "      <th>LightlyActiveMinutes</th>\n",
       "      <th>SedentaryMinutes</th>\n",
       "      <th>Calories</th>\n",
       "    </tr>\n",
       "  </thead>\n",
       "  <tbody>\n",
       "    <tr>\n",
       "      <th>0</th>\n",
       "      <td>1503960366</td>\n",
       "      <td>4/12/2016</td>\n",
       "      <td>13162</td>\n",
       "      <td>8.50</td>\n",
       "      <td>8.50</td>\n",
       "      <td>0.0</td>\n",
       "      <td>1.88</td>\n",
       "      <td>0.55</td>\n",
       "      <td>6.06</td>\n",
       "      <td>0.0</td>\n",
       "      <td>25</td>\n",
       "      <td>13</td>\n",
       "      <td>328</td>\n",
       "      <td>728</td>\n",
       "      <td>1985</td>\n",
       "    </tr>\n",
       "    <tr>\n",
       "      <th>1</th>\n",
       "      <td>1503960366</td>\n",
       "      <td>4/13/2016</td>\n",
       "      <td>10735</td>\n",
       "      <td>6.97</td>\n",
       "      <td>6.97</td>\n",
       "      <td>0.0</td>\n",
       "      <td>1.57</td>\n",
       "      <td>0.69</td>\n",
       "      <td>4.71</td>\n",
       "      <td>0.0</td>\n",
       "      <td>21</td>\n",
       "      <td>19</td>\n",
       "      <td>217</td>\n",
       "      <td>776</td>\n",
       "      <td>1797</td>\n",
       "    </tr>\n",
       "    <tr>\n",
       "      <th>2</th>\n",
       "      <td>1503960366</td>\n",
       "      <td>4/14/2016</td>\n",
       "      <td>10460</td>\n",
       "      <td>6.74</td>\n",
       "      <td>6.74</td>\n",
       "      <td>0.0</td>\n",
       "      <td>2.44</td>\n",
       "      <td>0.40</td>\n",
       "      <td>3.91</td>\n",
       "      <td>0.0</td>\n",
       "      <td>30</td>\n",
       "      <td>11</td>\n",
       "      <td>181</td>\n",
       "      <td>1218</td>\n",
       "      <td>1776</td>\n",
       "    </tr>\n",
       "    <tr>\n",
       "      <th>3</th>\n",
       "      <td>1503960366</td>\n",
       "      <td>4/15/2016</td>\n",
       "      <td>9762</td>\n",
       "      <td>6.28</td>\n",
       "      <td>6.28</td>\n",
       "      <td>0.0</td>\n",
       "      <td>2.14</td>\n",
       "      <td>1.26</td>\n",
       "      <td>2.83</td>\n",
       "      <td>0.0</td>\n",
       "      <td>29</td>\n",
       "      <td>34</td>\n",
       "      <td>209</td>\n",
       "      <td>726</td>\n",
       "      <td>1745</td>\n",
       "    </tr>\n",
       "    <tr>\n",
       "      <th>4</th>\n",
       "      <td>1503960366</td>\n",
       "      <td>4/16/2016</td>\n",
       "      <td>12669</td>\n",
       "      <td>8.16</td>\n",
       "      <td>8.16</td>\n",
       "      <td>0.0</td>\n",
       "      <td>2.71</td>\n",
       "      <td>0.41</td>\n",
       "      <td>5.04</td>\n",
       "      <td>0.0</td>\n",
       "      <td>36</td>\n",
       "      <td>10</td>\n",
       "      <td>221</td>\n",
       "      <td>773</td>\n",
       "      <td>1863</td>\n",
       "    </tr>\n",
       "  </tbody>\n",
       "</table>\n",
       "</div>"
      ],
      "text/plain": [
       "           Id ActivityDate  TotalSteps  TotalDistance  TrackerDistance  \\\n",
       "0  1503960366    4/12/2016       13162           8.50             8.50   \n",
       "1  1503960366    4/13/2016       10735           6.97             6.97   \n",
       "2  1503960366    4/14/2016       10460           6.74             6.74   \n",
       "3  1503960366    4/15/2016        9762           6.28             6.28   \n",
       "4  1503960366    4/16/2016       12669           8.16             8.16   \n",
       "\n",
       "   LoggedActivitiesDistance  VeryActiveDistance  ModeratelyActiveDistance  \\\n",
       "0                       0.0                1.88                      0.55   \n",
       "1                       0.0                1.57                      0.69   \n",
       "2                       0.0                2.44                      0.40   \n",
       "3                       0.0                2.14                      1.26   \n",
       "4                       0.0                2.71                      0.41   \n",
       "\n",
       "   LightActiveDistance  SedentaryActiveDistance  VeryActiveMinutes  \\\n",
       "0                 6.06                      0.0                 25   \n",
       "1                 4.71                      0.0                 21   \n",
       "2                 3.91                      0.0                 30   \n",
       "3                 2.83                      0.0                 29   \n",
       "4                 5.04                      0.0                 36   \n",
       "\n",
       "   FairlyActiveMinutes  LightlyActiveMinutes  SedentaryMinutes  Calories  \n",
       "0                   13                   328               728      1985  \n",
       "1                   19                   217               776      1797  \n",
       "2                   11                   181              1218      1776  \n",
       "3                   34                   209               726      1745  \n",
       "4                   10                   221               773      1863  "
      ]
     },
     "execution_count": 3,
     "metadata": {},
     "output_type": "execute_result"
    }
   ],
   "source": [
    "daily_activity.head()"
   ]
  },
  {
   "cell_type": "markdown",
   "id": "8d0f19bf-aaf5-4c43-bf7e-75c75db8c80b",
   "metadata": {
    "tags": []
   },
   "source": [
    "### 2.3 Checking data"
   ]
  },
  {
   "cell_type": "code",
   "execution_count": 4,
   "id": "acf98cea-ce2e-4552-ad41-45456a953205",
   "metadata": {},
   "outputs": [
    {
     "name": "stdout",
     "output_type": "stream",
     "text": [
      "<class 'pandas.core.frame.DataFrame'>\n",
      "RangeIndex: 940 entries, 0 to 939\n",
      "Data columns (total 15 columns):\n",
      " #   Column                    Non-Null Count  Dtype  \n",
      "---  ------                    --------------  -----  \n",
      " 0   Id                        940 non-null    int64  \n",
      " 1   ActivityDate              940 non-null    object \n",
      " 2   TotalSteps                940 non-null    int64  \n",
      " 3   TotalDistance             940 non-null    float64\n",
      " 4   TrackerDistance           940 non-null    float64\n",
      " 5   LoggedActivitiesDistance  940 non-null    float64\n",
      " 6   VeryActiveDistance        940 non-null    float64\n",
      " 7   ModeratelyActiveDistance  940 non-null    float64\n",
      " 8   LightActiveDistance       940 non-null    float64\n",
      " 9   SedentaryActiveDistance   940 non-null    float64\n",
      " 10  VeryActiveMinutes         940 non-null    int64  \n",
      " 11  FairlyActiveMinutes       940 non-null    int64  \n",
      " 12  LightlyActiveMinutes      940 non-null    int64  \n",
      " 13  SedentaryMinutes          940 non-null    int64  \n",
      " 14  Calories                  940 non-null    int64  \n",
      "dtypes: float64(7), int64(7), object(1)\n",
      "memory usage: 110.3+ KB\n"
     ]
    }
   ],
   "source": [
    "daily_activity.info()"
   ]
  },
  {
   "cell_type": "code",
   "execution_count": 5,
   "id": "1458f179-8d25-463e-b6bc-8fd54efa5396",
   "metadata": {},
   "outputs": [
    {
     "name": "stdout",
     "output_type": "stream",
     "text": [
      "<class 'pandas.core.frame.DataFrame'>\n",
      "RangeIndex: 22099 entries, 0 to 22098\n",
      "Data columns (total 3 columns):\n",
      " #   Column        Non-Null Count  Dtype \n",
      "---  ------        --------------  ----- \n",
      " 0   Id            22099 non-null  int64 \n",
      " 1   ActivityHour  22099 non-null  object\n",
      " 2   Calories      22099 non-null  int64 \n",
      "dtypes: int64(2), object(1)\n",
      "memory usage: 518.1+ KB\n"
     ]
    }
   ],
   "source": [
    "hourly_calories.info()"
   ]
  },
  {
   "cell_type": "code",
   "execution_count": 6,
   "id": "cbf325b5-d9da-4949-a385-b477d82d9e5c",
   "metadata": {},
   "outputs": [
    {
     "name": "stdout",
     "output_type": "stream",
     "text": [
      "<class 'pandas.core.frame.DataFrame'>\n",
      "RangeIndex: 413 entries, 0 to 412\n",
      "Data columns (total 5 columns):\n",
      " #   Column              Non-Null Count  Dtype \n",
      "---  ------              --------------  ----- \n",
      " 0   Id                  413 non-null    int64 \n",
      " 1   SleepDay            413 non-null    object\n",
      " 2   TotalSleepRecords   413 non-null    int64 \n",
      " 3   TotalMinutesAsleep  413 non-null    int64 \n",
      " 4   TotalTimeInBed      413 non-null    int64 \n",
      "dtypes: int64(4), object(1)\n",
      "memory usage: 16.3+ KB\n"
     ]
    }
   ],
   "source": [
    "sleep_day.info()"
   ]
  },
  {
   "cell_type": "markdown",
   "id": "50d2bbee-9834-440f-b381-613e8b448301",
   "metadata": {},
   "source": [
    "**--> There is no missing values at all datasets**"
   ]
  },
  {
   "cell_type": "markdown",
   "id": "0de9f982-d02e-450b-a339-2363dedab113",
   "metadata": {
    "tags": []
   },
   "source": [
    "### 2.4 Transfroming data"
   ]
  },
  {
   "cell_type": "markdown",
   "id": "59aa8c6e-6194-4297-84fa-c4fa86e90384",
   "metadata": {},
   "source": [
    "* **Merging datasets to daily_data and hourly_data**"
   ]
  },
  {
   "cell_type": "code",
   "execution_count": 7,
   "id": "9720d85d-d5a4-408e-95b6-8cdc767962bd",
   "metadata": {},
   "outputs": [],
   "source": [
    "# merging daily_activity and sleep_day to daily_data (daily_activity have already has the data of daily_calories, daily_intensity and daily step)\n",
    "    #create date column for sleep_day\n",
    "sleep_day['Date'] = pd.to_datetime(sleep_day['SleepDay']).dt.date\n",
    "\n",
    "    #rename activity date column to date and format datetime for daily_activity\n",
    "daily_activity.rename(columns={'ActivityDate': 'Date'}, inplace=True)\n",
    "daily_activity['Date'] = pd.to_datetime(daily_activity['Date']).dt.date\n",
    "\n",
    "    #merging daily activity and sleep day\n",
    "daily_data = daily_activity.merge(sleep_day, how='left' ,on=['Id','Date']) #daily_activity: 940 rows, sleep_day: 413 rows\n",
    "\n",
    "# merging hourly_calories, hourly_intesity to hourly_data\n",
    "hourly_data = hourly_calories.merge(hourly_intensity, on=['Id','ActivityHour'])"
   ]
  },
  {
   "cell_type": "code",
   "execution_count": 8,
   "id": "b17b55f3-880b-4aa0-81ff-8ccdfa906332",
   "metadata": {},
   "outputs": [
    {
     "name": "stdout",
     "output_type": "stream",
     "text": [
      "<class 'pandas.core.frame.DataFrame'>\n",
      "Int64Index: 943 entries, 0 to 942\n",
      "Data columns (total 19 columns):\n",
      " #   Column                    Non-Null Count  Dtype  \n",
      "---  ------                    --------------  -----  \n",
      " 0   Id                        943 non-null    int64  \n",
      " 1   Date                      943 non-null    object \n",
      " 2   TotalSteps                943 non-null    int64  \n",
      " 3   TotalDistance             943 non-null    float64\n",
      " 4   TrackerDistance           943 non-null    float64\n",
      " 5   LoggedActivitiesDistance  943 non-null    float64\n",
      " 6   VeryActiveDistance        943 non-null    float64\n",
      " 7   ModeratelyActiveDistance  943 non-null    float64\n",
      " 8   LightActiveDistance       943 non-null    float64\n",
      " 9   SedentaryActiveDistance   943 non-null    float64\n",
      " 10  VeryActiveMinutes         943 non-null    int64  \n",
      " 11  FairlyActiveMinutes       943 non-null    int64  \n",
      " 12  LightlyActiveMinutes      943 non-null    int64  \n",
      " 13  SedentaryMinutes          943 non-null    int64  \n",
      " 14  Calories                  943 non-null    int64  \n",
      " 15  SleepDay                  413 non-null    object \n",
      " 16  TotalSleepRecords         413 non-null    float64\n",
      " 17  TotalMinutesAsleep        413 non-null    float64\n",
      " 18  TotalTimeInBed            413 non-null    float64\n",
      "dtypes: float64(10), int64(7), object(2)\n",
      "memory usage: 147.3+ KB\n"
     ]
    }
   ],
   "source": [
    "daily_data.info()"
   ]
  },
  {
   "cell_type": "code",
   "execution_count": 9,
   "id": "2f6adb7d-722b-463c-ac7f-5aad9f5d21e2",
   "metadata": {},
   "outputs": [
    {
     "name": "stdout",
     "output_type": "stream",
     "text": [
      "<class 'pandas.core.frame.DataFrame'>\n",
      "Int64Index: 22099 entries, 0 to 22098\n",
      "Data columns (total 5 columns):\n",
      " #   Column            Non-Null Count  Dtype  \n",
      "---  ------            --------------  -----  \n",
      " 0   Id                22099 non-null  int64  \n",
      " 1   ActivityHour      22099 non-null  object \n",
      " 2   Calories          22099 non-null  int64  \n",
      " 3   TotalIntensity    22099 non-null  int64  \n",
      " 4   AverageIntensity  22099 non-null  float64\n",
      "dtypes: float64(1), int64(3), object(1)\n",
      "memory usage: 1.0+ MB\n"
     ]
    }
   ],
   "source": [
    "hourly_data.info()"
   ]
  },
  {
   "cell_type": "markdown",
   "id": "59f6d103-37ef-4774-bb43-a3ca00332d81",
   "metadata": {},
   "source": [
    "--> Date column type of daily_data and ActivityHour column type of hourly_date are object now, change to datetime datatype"
   ]
  },
  {
   "cell_type": "markdown",
   "id": "1e995e58-5b41-4b49-8c38-bd983414a29d",
   "metadata": {},
   "source": [
    "* **Transforming date column format**"
   ]
  },
  {
   "cell_type": "code",
   "execution_count": 10,
   "id": "eb6929cd-8c12-499f-964e-5514d56a7c82",
   "metadata": {},
   "outputs": [],
   "source": [
    "# transform Date column format of daily_data\n",
    "daily_data['Date'] = pd.to_datetime(daily_data['Date'])\n",
    "\n",
    "# transform ActivityHour column format of hourly_data\n",
    "hourly_data['ActivityHour'] = pd.to_datetime(hourly_data['ActivityHour'])"
   ]
  },
  {
   "cell_type": "code",
   "execution_count": 11,
   "id": "11971250-5926-4c46-beac-6b88c89d4d56",
   "metadata": {},
   "outputs": [
    {
     "name": "stdout",
     "output_type": "stream",
     "text": [
      "<class 'pandas.core.frame.DataFrame'>\n",
      "Int64Index: 943 entries, 0 to 942\n",
      "Data columns (total 19 columns):\n",
      " #   Column                    Non-Null Count  Dtype         \n",
      "---  ------                    --------------  -----         \n",
      " 0   Id                        943 non-null    int64         \n",
      " 1   Date                      943 non-null    datetime64[ns]\n",
      " 2   TotalSteps                943 non-null    int64         \n",
      " 3   TotalDistance             943 non-null    float64       \n",
      " 4   TrackerDistance           943 non-null    float64       \n",
      " 5   LoggedActivitiesDistance  943 non-null    float64       \n",
      " 6   VeryActiveDistance        943 non-null    float64       \n",
      " 7   ModeratelyActiveDistance  943 non-null    float64       \n",
      " 8   LightActiveDistance       943 non-null    float64       \n",
      " 9   SedentaryActiveDistance   943 non-null    float64       \n",
      " 10  VeryActiveMinutes         943 non-null    int64         \n",
      " 11  FairlyActiveMinutes       943 non-null    int64         \n",
      " 12  LightlyActiveMinutes      943 non-null    int64         \n",
      " 13  SedentaryMinutes          943 non-null    int64         \n",
      " 14  Calories                  943 non-null    int64         \n",
      " 15  SleepDay                  413 non-null    object        \n",
      " 16  TotalSleepRecords         413 non-null    float64       \n",
      " 17  TotalMinutesAsleep        413 non-null    float64       \n",
      " 18  TotalTimeInBed            413 non-null    float64       \n",
      "dtypes: datetime64[ns](1), float64(10), int64(7), object(1)\n",
      "memory usage: 147.3+ KB\n"
     ]
    }
   ],
   "source": [
    "daily_data.info()"
   ]
  },
  {
   "cell_type": "code",
   "execution_count": 12,
   "id": "e1c8f531-06eb-4895-9d8b-9eb63f6363f9",
   "metadata": {},
   "outputs": [
    {
     "name": "stdout",
     "output_type": "stream",
     "text": [
      "<class 'pandas.core.frame.DataFrame'>\n",
      "Int64Index: 22099 entries, 0 to 22098\n",
      "Data columns (total 5 columns):\n",
      " #   Column            Non-Null Count  Dtype         \n",
      "---  ------            --------------  -----         \n",
      " 0   Id                22099 non-null  int64         \n",
      " 1   ActivityHour      22099 non-null  datetime64[ns]\n",
      " 2   Calories          22099 non-null  int64         \n",
      " 3   TotalIntensity    22099 non-null  int64         \n",
      " 4   AverageIntensity  22099 non-null  float64       \n",
      "dtypes: datetime64[ns](1), float64(1), int64(3)\n",
      "memory usage: 1.0 MB\n"
     ]
    }
   ],
   "source": [
    "hourly_data.info()"
   ]
  },
  {
   "cell_type": "markdown",
   "id": "65b0c7de-a7da-4ea0-9ce9-8fa875c7b6bb",
   "metadata": {},
   "source": [
    "## 3. Analyzing"
   ]
  },
  {
   "cell_type": "markdown",
   "id": "5e7a7a20-7b24-4356-8358-6caf0ab8d810",
   "metadata": {},
   "source": [
    "### 3.1 The relationship of calories burned and user types"
   ]
  },
  {
   "cell_type": "markdown",
   "id": "88960398-9f3c-4347-a3ab-9ef33c891066",
   "metadata": {},
   "source": [
    "* **Create data by user types**"
   ]
  },
  {
   "cell_type": "code",
   "execution_count": 16,
   "id": "17958c3e-2c12-4c48-ad99-9acf283c8bb4",
   "metadata": {},
   "outputs": [],
   "source": [
    "# create table of id with user type column\n",
    "    # set sedentary_mean, lightly_active_mean, fairly_active_mean, very_active_mean\n",
    "sedentary_mean = daily_data.SedentaryMinutes.mean()\n",
    "lightly_active_mean = daily_data.LightlyActiveMinutes.mean()\n",
    "fairly_active_mean = daily_data.FairlyActiveMinutes.mean()\n",
    "very_active_mean = daily_data.VeryActiveMinutes.mean()\n",
    "\n",
    "    # group daily_data by Id\n",
    "col_group = ['SedentaryMinutes','LightlyActiveMinutes','FairlyActiveMinutes','VeryActiveMinutes','Calories']\n",
    "daily_data_id = daily_data.groupby('Id')[col_group].mean()\n",
    "\n",
    "    # create User_type column\n",
    "user_cond = [\n",
    "    (daily_data_id.VeryActiveMinutes > very_active_mean),\n",
    "    (daily_data_id.FairlyActiveMinutes > fairly_active_mean),\n",
    "    (daily_data_id.LightlyActiveMinutes > lightly_active_mean),\n",
    "    (daily_data_id.SedentaryMinutes > sedentary_mean)      \n",
    "]\n",
    "\n",
    "user_type = ['very active', 'fairly active', 'lightly active','sedentary']\n",
    "\n",
    "daily_data_id['User_type'] = np.select(user_cond, user_type)\n",
    "    \n",
    "# create user type table\n",
    "daily_data_id.reset_index(inplace=True)\n",
    "data_by_user = daily_data_id.groupby('User_type').agg({'Id':'count','Calories':'mean'})\n",
    "data_by_user.rename(columns={'Id':'Total_user'}, inplace=True)\n",
    "data_by_user.reset_index(inplace=True)"
   ]
  },
  {
   "cell_type": "code",
   "execution_count": 17,
   "id": "fb253272-b3c2-4dac-b071-7f8a54eeafaf",
   "metadata": {},
   "outputs": [
    {
     "data": {
      "text/html": [
       "<div>\n",
       "<style scoped>\n",
       "    .dataframe tbody tr th:only-of-type {\n",
       "        vertical-align: middle;\n",
       "    }\n",
       "\n",
       "    .dataframe tbody tr th {\n",
       "        vertical-align: top;\n",
       "    }\n",
       "\n",
       "    .dataframe thead th {\n",
       "        text-align: right;\n",
       "    }\n",
       "</style>\n",
       "<table border=\"1\" class=\"dataframe\">\n",
       "  <thead>\n",
       "    <tr style=\"text-align: right;\">\n",
       "      <th></th>\n",
       "      <th>Id</th>\n",
       "      <th>SedentaryMinutes</th>\n",
       "      <th>LightlyActiveMinutes</th>\n",
       "      <th>FairlyActiveMinutes</th>\n",
       "      <th>VeryActiveMinutes</th>\n",
       "      <th>Calories</th>\n",
       "      <th>User_type</th>\n",
       "    </tr>\n",
       "  </thead>\n",
       "  <tbody>\n",
       "    <tr>\n",
       "      <th>0</th>\n",
       "      <td>1503960366</td>\n",
       "      <td>848.161290</td>\n",
       "      <td>219.935484</td>\n",
       "      <td>19.161290</td>\n",
       "      <td>38.709677</td>\n",
       "      <td>1816.419355</td>\n",
       "      <td>very active</td>\n",
       "    </tr>\n",
       "    <tr>\n",
       "      <th>1</th>\n",
       "      <td>1624580081</td>\n",
       "      <td>1257.741935</td>\n",
       "      <td>153.483871</td>\n",
       "      <td>5.806452</td>\n",
       "      <td>8.677419</td>\n",
       "      <td>1483.354839</td>\n",
       "      <td>sedentary</td>\n",
       "    </tr>\n",
       "    <tr>\n",
       "      <th>2</th>\n",
       "      <td>1644430081</td>\n",
       "      <td>1161.866667</td>\n",
       "      <td>178.466667</td>\n",
       "      <td>21.366667</td>\n",
       "      <td>9.566667</td>\n",
       "      <td>2811.300000</td>\n",
       "      <td>fairly active</td>\n",
       "    </tr>\n",
       "    <tr>\n",
       "      <th>3</th>\n",
       "      <td>1844505072</td>\n",
       "      <td>1206.612903</td>\n",
       "      <td>115.451613</td>\n",
       "      <td>1.290323</td>\n",
       "      <td>0.129032</td>\n",
       "      <td>1573.483871</td>\n",
       "      <td>sedentary</td>\n",
       "    </tr>\n",
       "    <tr>\n",
       "      <th>4</th>\n",
       "      <td>1927972279</td>\n",
       "      <td>1317.419355</td>\n",
       "      <td>38.580645</td>\n",
       "      <td>0.774194</td>\n",
       "      <td>1.322581</td>\n",
       "      <td>2172.806452</td>\n",
       "      <td>sedentary</td>\n",
       "    </tr>\n",
       "  </tbody>\n",
       "</table>\n",
       "</div>"
      ],
      "text/plain": [
       "           Id  SedentaryMinutes  LightlyActiveMinutes  FairlyActiveMinutes  \\\n",
       "0  1503960366        848.161290            219.935484            19.161290   \n",
       "1  1624580081       1257.741935            153.483871             5.806452   \n",
       "2  1644430081       1161.866667            178.466667            21.366667   \n",
       "3  1844505072       1206.612903            115.451613             1.290323   \n",
       "4  1927972279       1317.419355             38.580645             0.774194   \n",
       "\n",
       "   VeryActiveMinutes     Calories      User_type  \n",
       "0          38.709677  1816.419355    very active  \n",
       "1           8.677419  1483.354839      sedentary  \n",
       "2           9.566667  2811.300000  fairly active  \n",
       "3           0.129032  1573.483871      sedentary  \n",
       "4           1.322581  2172.806452      sedentary  "
      ]
     },
     "execution_count": 17,
     "metadata": {},
     "output_type": "execute_result"
    }
   ],
   "source": [
    "daily_data_id.head()"
   ]
  },
  {
   "cell_type": "code",
   "execution_count": 18,
   "id": "ed708417-57b0-46ca-acdc-b254e28e197d",
   "metadata": {},
   "outputs": [
    {
     "data": {
      "text/html": [
       "<div>\n",
       "<style scoped>\n",
       "    .dataframe tbody tr th:only-of-type {\n",
       "        vertical-align: middle;\n",
       "    }\n",
       "\n",
       "    .dataframe tbody tr th {\n",
       "        vertical-align: top;\n",
       "    }\n",
       "\n",
       "    .dataframe thead th {\n",
       "        text-align: right;\n",
       "    }\n",
       "</style>\n",
       "<table border=\"1\" class=\"dataframe\">\n",
       "  <thead>\n",
       "    <tr style=\"text-align: right;\">\n",
       "      <th></th>\n",
       "      <th>User_type</th>\n",
       "      <th>Total_user</th>\n",
       "      <th>Calories</th>\n",
       "    </tr>\n",
       "  </thead>\n",
       "  <tbody>\n",
       "    <tr>\n",
       "      <th>0</th>\n",
       "      <td>fairly active</td>\n",
       "      <td>8</td>\n",
       "      <td>2255.179927</td>\n",
       "    </tr>\n",
       "    <tr>\n",
       "      <th>1</th>\n",
       "      <td>lightly active</td>\n",
       "      <td>8</td>\n",
       "      <td>2024.938589</td>\n",
       "    </tr>\n",
       "    <tr>\n",
       "      <th>2</th>\n",
       "      <td>sedentary</td>\n",
       "      <td>6</td>\n",
       "      <td>1925.251993</td>\n",
       "    </tr>\n",
       "    <tr>\n",
       "      <th>3</th>\n",
       "      <td>very active</td>\n",
       "      <td>11</td>\n",
       "      <td>2687.479497</td>\n",
       "    </tr>\n",
       "  </tbody>\n",
       "</table>\n",
       "</div>"
      ],
      "text/plain": [
       "        User_type  Total_user     Calories\n",
       "0   fairly active           8  2255.179927\n",
       "1  lightly active           8  2024.938589\n",
       "2       sedentary           6  1925.251993\n",
       "3     very active          11  2687.479497"
      ]
     },
     "execution_count": 18,
     "metadata": {},
     "output_type": "execute_result"
    }
   ],
   "source": [
    "data_by_user"
   ]
  },
  {
   "cell_type": "markdown",
   "id": "15b10ff2-db09-4a31-9c2b-cb91362cc67b",
   "metadata": {},
   "source": [
    "* **Plot of user type**"
   ]
  },
  {
   "cell_type": "code",
   "execution_count": 20,
   "id": "33550646-aa72-4547-884c-bc16ca6c4ae1",
   "metadata": {},
   "outputs": [
    {
     "data": {
      "image/png": "[encoded data removed]",
      "text/plain": [
       "<Figure size 432x288 with 1 Axes>"
      ]
     },
     "metadata": {},
     "output_type": "display_data"
    }
   ],
   "source": [
    "plt.pie(data_by_user.Total_user, \n",
    "        labels=data_by_user.User_type, \n",
    "        autopct='%.1f%%')\n",
    "plt.show()"
   ]
  },
  {
   "cell_type": "markdown",
   "id": "3b9cb4f0-82f5-4369-9c1e-dfb636539332",
   "metadata": {},
   "source": [
    "* **Plot of calories burned by user types**"
   ]
  },
  {
   "cell_type": "code",
   "execution_count": 21,
   "id": "0c9911d2-f014-4bb8-9f5e-36051fc599d8",
   "metadata": {},
   "outputs": [
    {
     "data": {
      "image/png": "[encoded data removed]",
      "text/plain": [
       "<Figure size 432x288 with 1 Axes>"
      ]
     },
     "metadata": {
      "needs_background": "light"
     },
     "output_type": "display_data"
    }
   ],
   "source": [
    "# create plot of Calories burned by user type\n",
    "sns.boxplot(data=daily_data_id,\n",
    "            x='User_type', \n",
    "            y='Calories', \n",
    "            order=['sedentary','lightly active', 'fairly active', 'very active'])\n",
    "plt.title('Calories burned by User type')\n",
    "plt.show()"
   ]
  },
  {
   "cell_type": "markdown",
   "id": "cf3ff73f-22ab-47b7-9de5-f3d3871b4192",
   "metadata": {},
   "source": [
    "* With the way was used to catogorize user type, the Very active users is 1/3 of all users, the lightly and fairly are 24% and the sedentary is smallest 18%. \n",
    "* And the very active users is the ones with more calories burned. That is not surprising, but it confirms that the level of activity is related with the calories burned and it is important for losing weight"
   ]
  },
  {
   "cell_type": "markdown",
   "id": "fc732f85-bbb7-4087-aaae-ed61015a1954",
   "metadata": {},
   "source": [
    "### 3.2 The relationship between sleep quality and user type"
   ]
  },
  {
   "cell_type": "markdown",
   "id": "41bbeaae-2be5-4d53-bf75-f8cecc684b5c",
   "metadata": {},
   "source": [
    "* **Create data by sleep quality and user type**"
   ]
  },
  {
   "cell_type": "code",
   "execution_count": 22,
   "id": "e93b1191-66b9-44d3-9fc2-c31cb199c23d",
   "metadata": {},
   "outputs": [
    {
     "data": {
      "text/html": [
       "<div>\n",
       "<style scoped>\n",
       "    .dataframe tbody tr th:only-of-type {\n",
       "        vertical-align: middle;\n",
       "    }\n",
       "\n",
       "    .dataframe tbody tr th {\n",
       "        vertical-align: top;\n",
       "    }\n",
       "\n",
       "    .dataframe thead th {\n",
       "        text-align: right;\n",
       "    }\n",
       "</style>\n",
       "<table border=\"1\" class=\"dataframe\">\n",
       "  <thead>\n",
       "    <tr style=\"text-align: right;\">\n",
       "      <th></th>\n",
       "      <th>User_type</th>\n",
       "      <th>Sleep_quality</th>\n",
       "      <th>Total</th>\n",
       "      <th>Total_user_type</th>\n",
       "      <th>Percentage</th>\n",
       "    </tr>\n",
       "  </thead>\n",
       "  <tbody>\n",
       "    <tr>\n",
       "      <th>0</th>\n",
       "      <td>fairly active</td>\n",
       "      <td>Bad sleep</td>\n",
       "      <td>4</td>\n",
       "      <td>6</td>\n",
       "      <td>66.666667</td>\n",
       "    </tr>\n",
       "    <tr>\n",
       "      <th>1</th>\n",
       "      <td>fairly active</td>\n",
       "      <td>Normal</td>\n",
       "      <td>2</td>\n",
       "      <td>6</td>\n",
       "      <td>33.333333</td>\n",
       "    </tr>\n",
       "    <tr>\n",
       "      <th>2</th>\n",
       "      <td>lightly active</td>\n",
       "      <td>Bad sleep</td>\n",
       "      <td>1</td>\n",
       "      <td>5</td>\n",
       "      <td>20.000000</td>\n",
       "    </tr>\n",
       "    <tr>\n",
       "      <th>3</th>\n",
       "      <td>lightly active</td>\n",
       "      <td>Normal</td>\n",
       "      <td>3</td>\n",
       "      <td>5</td>\n",
       "      <td>60.000000</td>\n",
       "    </tr>\n",
       "    <tr>\n",
       "      <th>4</th>\n",
       "      <td>lightly active</td>\n",
       "      <td>Over sleep</td>\n",
       "      <td>1</td>\n",
       "      <td>5</td>\n",
       "      <td>20.000000</td>\n",
       "    </tr>\n",
       "    <tr>\n",
       "      <th>5</th>\n",
       "      <td>sedentary</td>\n",
       "      <td>Bad sleep</td>\n",
       "      <td>1</td>\n",
       "      <td>4</td>\n",
       "      <td>25.000000</td>\n",
       "    </tr>\n",
       "    <tr>\n",
       "      <th>6</th>\n",
       "      <td>sedentary</td>\n",
       "      <td>Normal</td>\n",
       "      <td>2</td>\n",
       "      <td>4</td>\n",
       "      <td>50.000000</td>\n",
       "    </tr>\n",
       "    <tr>\n",
       "      <th>7</th>\n",
       "      <td>sedentary</td>\n",
       "      <td>Over sleep</td>\n",
       "      <td>1</td>\n",
       "      <td>4</td>\n",
       "      <td>25.000000</td>\n",
       "    </tr>\n",
       "    <tr>\n",
       "      <th>8</th>\n",
       "      <td>very active</td>\n",
       "      <td>Bad sleep</td>\n",
       "      <td>2</td>\n",
       "      <td>9</td>\n",
       "      <td>22.222222</td>\n",
       "    </tr>\n",
       "    <tr>\n",
       "      <th>9</th>\n",
       "      <td>very active</td>\n",
       "      <td>Normal</td>\n",
       "      <td>7</td>\n",
       "      <td>9</td>\n",
       "      <td>77.777778</td>\n",
       "    </tr>\n",
       "  </tbody>\n",
       "</table>\n",
       "</div>"
      ],
      "text/plain": [
       "        User_type Sleep_quality  Total  Total_user_type  Percentage\n",
       "0   fairly active     Bad sleep      4                6   66.666667\n",
       "1   fairly active        Normal      2                6   33.333333\n",
       "2  lightly active     Bad sleep      1                5   20.000000\n",
       "3  lightly active        Normal      3                5   60.000000\n",
       "4  lightly active    Over sleep      1                5   20.000000\n",
       "5       sedentary     Bad sleep      1                4   25.000000\n",
       "6       sedentary        Normal      2                4   50.000000\n",
       "7       sedentary    Over sleep      1                4   25.000000\n",
       "8     very active     Bad sleep      2                9   22.222222\n",
       "9     very active        Normal      7                9   77.777778"
      ]
     },
     "execution_count": 22,
     "metadata": {},
     "output_type": "execute_result"
    }
   ],
   "source": [
    "# create sleep type data\n",
    "    # group daily data by id\n",
    "col_group_2 = ['SedentaryMinutes','LightlyActiveMinutes','FairlyActiveMinutes','VeryActiveMinutes','TotalMinutesAsleep']\n",
    "daily_sleep_id = daily_data.groupby('Id')[col_group_2].mean().dropna()\n",
    "daily_sleep_id.reset_index(inplace=True)\n",
    "\n",
    "    # create user type column\n",
    "sleep_user_cond = [\n",
    "    (daily_sleep_id.VeryActiveMinutes > very_active_mean),\n",
    "    (daily_sleep_id.FairlyActiveMinutes > fairly_active_mean),\n",
    "    (daily_sleep_id.LightlyActiveMinutes > lightly_active_mean),\n",
    "    (daily_sleep_id.SedentaryMinutes > sedentary_mean)        \n",
    "]\n",
    "\n",
    "sleep_user_type = ['very active', 'fairly active', 'lightly active','sedentary']\n",
    "\n",
    "daily_sleep_id['User_type'] = np.select(sleep_user_cond, sleep_user_type)\n",
    "\n",
    "    # Create sleep quality column\n",
    "sleep_qty_cond = [\n",
    "    (daily_sleep_id.TotalMinutesAsleep < 360), # less than 6 hours \n",
    "    (daily_sleep_id.TotalMinutesAsleep >= 360) & (daily_sleep_id.TotalMinutesAsleep <= 480), # 6 - 8 hours\n",
    "    (daily_sleep_id.TotalMinutesAsleep > 480 ) # more than 8 hours\n",
    "]\n",
    "    \n",
    "sleep_qty_type = ['Bad sleep', 'Normal', 'Over sleep']\n",
    "    \n",
    "daily_sleep_id['Sleep_quality'] = np.select(sleep_qty_cond, sleep_qty_type)\n",
    "\n",
    "    #group user type and sleep quality\n",
    "daily_sleep_user = daily_sleep_id.groupby(['User_type','Sleep_quality']).agg({'Id':'count'})\n",
    "daily_sleep_user.rename(columns={'Id':'Total'},inplace=True)\n",
    "daily_sleep_user.reset_index(inplace=True)\n",
    "\n",
    "    #calculate total users of each user type\n",
    "user_type_amount = daily_sleep_user.groupby('User_type').agg({'Total':'sum'})\n",
    "user_type_amount.reset_index(inplace=True)\n",
    "user_type_amount.rename(columns={'Total':'Total_user_type'},inplace=True)\n",
    "    \n",
    "    # create Pecentage column of sleep quality of each user type\n",
    "daily_sleep_user = daily_sleep_user.merge(user_type_amount, how='left', on='User_type')\n",
    "daily_sleep_user['Percentage'] = (daily_sleep_user.Total / daily_sleep_user.Total_user_type) * 100\n",
    "daily_sleep_user"
   ]
  },
  {
   "cell_type": "markdown",
   "id": "803e564d-e6f8-41d0-b918-a4c1f2cd2535",
   "metadata": {},
   "source": [
    "* **Plot of sleep quality by user type**"
   ]
  },
  {
   "cell_type": "code",
   "execution_count": 23,
   "id": "29d2d81f-90a8-49b0-a0e8-af0fc4863a26",
   "metadata": {},
   "outputs": [
    {
     "data": {
      "image/png": "[encoded data removed]",
      "text/plain": [
       "<Figure size 432x288 with 1 Axes>"
      ]
     },
     "metadata": {
      "needs_background": "light"
     },
     "output_type": "display_data"
    }
   ],
   "source": [
    "sns.barplot(data=daily_sleep_user, \n",
    "            x='User_type', \n",
    "            y='Percentage', \n",
    "            hue='Sleep_quality', \n",
    "            order=['sedentary','lightly active','fairly active','very active'])\n",
    "plt.show()"
   ]
  },
  {
   "cell_type": "markdown",
   "id": "28912171-0f0d-4cec-aa4e-4977be6c2233",
   "metadata": {},
   "source": [
    "The plot shows 3 things very interesting:\n",
    "* First, the fairly active users have the most bad sleep percentage of compare to other user types.\n",
    "* Second, except fairly active users, the normal sleep increases from sedentary users to very active users.\n",
    "* Third, the descrease of over sleep throught the active level, it make sense that the fairly active and very active don't spend much time in bed"
   ]
  },
  {
   "cell_type": "markdown",
   "id": "3acc40fa-71a8-4256-bcc8-0ae74e4c56f1",
   "metadata": {},
   "source": [
    "## 4. Conclusion"
   ]
  },
  {
   "cell_type": "markdown",
   "id": "0e874687-ef40-4457-9b4d-6fe40615a039",
   "metadata": {},
   "source": [
    "There are some interesting things that I found in this data that I think it will be helpful for targeting marketing message to future consumers:\n",
    "1. There is relationship between high intensity activity and calories burned, so logging the activity with smart device will be a good motivation to increase user's activity. It's very helpful for the users who need to lose or control weight.\n",
    "\n",
    "2. The data also show the relationship of the sleep quality and activity level. It could be a good reason for own the smart device to track sleep quality to improve health and life quality\n",
    "\n",
    "With this results, I recommend to focus the marketing message on the improving sleep and losing weight aspect of the smart device. Using smart device is not only help to track sleep time and activity but aslo encourage the user to get more activity for burning calories and get enough sleep time"
   ]
  }
 ],
 "metadata": {
  "kernelspec": {
   "display_name": "Python 3 (ipykernel)",
   "language": "python",
   "name": "python3"
  },
  "language_info": {
   "codemirror_mode": {
    "name": "ipython",
    "version": 3
   },
   "file_extension": ".py",
   "mimetype": "text/x-python",
   "name": "python",
   "nbconvert_exporter": "python",
   "pygments_lexer": "ipython3",
   "version": "3.9.12"
  }
 },
 "nbformat": 4,
 "nbformat_minor": 5
}
